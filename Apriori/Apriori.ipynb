{
 "cells": [
  {
   "cell_type": "markdown",
   "metadata": {},
   "source": [
    "#### 1、载入数据集"
   ]
  },
  {
   "cell_type": "code",
   "execution_count": 88,
   "metadata": {},
   "outputs": [],
   "source": [
    "def loadDataSet():\n",
    "    return [[1, 3, 4], [2, 3, 5], [1, 2, 3, 5], [2, 5]]"
   ]
  },
  {
   "cell_type": "code",
   "execution_count": 89,
   "metadata": {},
   "outputs": [
    {
     "data": {
      "text/plain": [
       "[[1, 3, 4], [2, 3, 5], [1, 2, 3, 5], [2, 5]]"
      ]
     },
     "execution_count": 89,
     "metadata": {},
     "output_type": "execute_result"
    }
   ],
   "source": [
    "dataSet = loadDataSet()\n",
    "dataSet"
   ]
  },
  {
   "cell_type": "markdown",
   "metadata": {},
   "source": [
    "#### 2、大小为1的所有候选项集的集合"
   ]
  },
  {
   "cell_type": "code",
   "execution_count": 101,
   "metadata": {},
   "outputs": [],
   "source": [
    "#构建大小为1的所有候选项集的集合\n",
    "def createC1(dataSet): \n",
    "    C1 = []\n",
    "    for transaction in dataSet:\n",
    "        for item in transaction:\n",
    "            if not [item] in C1:\n",
    "                C1.append([item])\n",
    "    #print(C1)\n",
    "    C1.sort()\n",
    "    #print(C1)\n",
    "    return list(map(frozenset,C1))\n",
    "#set无序排序且不重复，是可变的，有add（），remove（）等方法。\n",
    "#既然是可变的，所以它不存在哈希值。基本功能包括关系测试和消除重复元素. \n",
    "#集合对象还支持union(联合), intersection(交集), difference(差集)和sysmmetric difference(对称差集)等数学运算. \n",
    "\n",
    "#frozenset是冻结的集合，它是不可变的，存在哈希值，\n",
    "#好处是它可以作为字典的key，也可以作为其它集合的元素。缺点是一旦创建便不能更改，没有add，remove方法。"
   ]
  },
  {
   "cell_type": "code",
   "execution_count": 102,
   "metadata": {},
   "outputs": [
    {
     "data": {
      "text/plain": [
       "[frozenset({1}),\n",
       " frozenset({2}),\n",
       " frozenset({3}),\n",
       " frozenset({4}),\n",
       " frozenset({5})]"
      ]
     },
     "execution_count": 102,
     "metadata": {},
     "output_type": "execute_result"
    }
   ],
   "source": [
    "C1 = createC1(dataSet)\n",
    "C1"
   ]
  },
  {
   "cell_type": "markdown",
   "metadata": {},
   "source": [
    "#### 3、返回频繁项集及其支持度"
   ]
  },
  {
   "cell_type": "code",
   "execution_count": 103,
   "metadata": {},
   "outputs": [],
   "source": [
    "\"\"\"\n",
    "对数据集中的每条交易记录tran    \n",
    "    对每个候选项集can：        \n",
    "        检查一下can是否是tran的子集：            \n",
    "            如果是：则增加can的计数值            \n",
    "            如果不是：把can的值设为1    \n",
    "    对每个候选项集：        \n",
    "        如果其支持度不低于最小值，则保留该项集    \n",
    "    返回所有频繁项集列表\n",
    "\"\"\"\n",
    "#找出每一个频繁项集，及其支持度\n",
    "def scanD(D,Ck,minSupport):\n",
    "    ssCnt = {}\n",
    "    for tid in D:\n",
    "        for can in Ck:\n",
    "            if can.issubset(tid):\n",
    "                #ssCnt[can] += 1\n",
    "                if can not in ssCnt:\n",
    "                    ssCnt[can] = 1\n",
    "                else:\n",
    "                    ssCnt[can] += 1\n",
    "    numItems = float(len(D))\n",
    "    retList = []\n",
    "    supportData = {}\n",
    "    for key in ssCnt:\n",
    "        support = ssCnt[key]/numItems\n",
    "        if support >= minSupport:\n",
    "            retList.insert(0,key)\n",
    "        supportData[key] = support\n",
    "    return retList,supportData"
   ]
  },
  {
   "cell_type": "code",
   "execution_count": 104,
   "metadata": {},
   "outputs": [
    {
     "data": {
      "text/plain": [
       "[{1, 3, 4}, {2, 3, 5}, {1, 2, 3, 5}, {2, 5}]"
      ]
     },
     "execution_count": 104,
     "metadata": {},
     "output_type": "execute_result"
    }
   ],
   "source": [
    "D = list(map(set,dataSet))\n",
    "D"
   ]
  },
  {
   "cell_type": "code",
   "execution_count": 105,
   "metadata": {},
   "outputs": [],
   "source": [
    "L1,suppData0 = scanD(D,C1,0.5)"
   ]
  },
  {
   "cell_type": "code",
   "execution_count": 106,
   "metadata": {},
   "outputs": [
    {
     "data": {
      "text/plain": [
       "[frozenset({5}), frozenset({2}), frozenset({3}), frozenset({1})]"
      ]
     },
     "execution_count": 106,
     "metadata": {},
     "output_type": "execute_result"
    }
   ],
   "source": [
    "L1"
   ]
  },
  {
   "cell_type": "code",
   "execution_count": 107,
   "metadata": {},
   "outputs": [
    {
     "data": {
      "text/plain": [
       "{frozenset({1}): 0.5,\n",
       " frozenset({3}): 0.75,\n",
       " frozenset({4}): 0.25,\n",
       " frozenset({2}): 0.75,\n",
       " frozenset({5}): 0.75}"
      ]
     },
     "execution_count": 107,
     "metadata": {},
     "output_type": "execute_result"
    }
   ],
   "source": [
    "suppData0"
   ]
  },
  {
   "cell_type": "code",
   "execution_count": 108,
   "metadata": {},
   "outputs": [
    {
     "data": {
      "text/plain": [
       "[[frozenset({5}), frozenset({2}), frozenset({3}), frozenset({1})]]"
      ]
     },
     "execution_count": 108,
     "metadata": {},
     "output_type": "execute_result"
    }
   ],
   "source": [
    "[L1]"
   ]
  },
  {
   "cell_type": "markdown",
   "metadata": {},
   "source": [
    "#### 4、合并频繁项集\n",
    "- aprioriGen：\n",
    "- Apriori：创建候选项集"
   ]
  },
  {
   "cell_type": "code",
   "execution_count": 109,
   "metadata": {},
   "outputs": [],
   "source": [
    "#合并频繁项集\n",
    "def aprioriGen(LK,k):\n",
    "    retList = []\n",
    "    lenLk = len(LK)\n",
    "    for i in range(lenLk):\n",
    "        for j in range(i+1,lenLk):\n",
    "            L1 = list(LK[i])[:k-2] #k-2为了减少一些重复操作，使得一次性生成更多元素的频繁项集\n",
    "            L2 = list(LK[j])[:k-2]\n",
    "            L1.sort()\n",
    "            L2.sort()\n",
    "            if L1 == L2:\n",
    "                retList.append(LK[i]|LK[j]) #为数学中的并运算\n",
    "    return retList"
   ]
  },
  {
   "cell_type": "code",
   "execution_count": 110,
   "metadata": {},
   "outputs": [
    {
     "data": {
      "text/plain": [
       "[frozenset({2, 5}),\n",
       " frozenset({3, 5}),\n",
       " frozenset({1, 5}),\n",
       " frozenset({2, 3}),\n",
       " frozenset({1, 2}),\n",
       " frozenset({1, 3})]"
      ]
     },
     "execution_count": 110,
     "metadata": {},
     "output_type": "execute_result"
    }
   ],
   "source": [
    "aprioriGen(L1,2)"
   ]
  },
  {
   "cell_type": "code",
   "execution_count": 111,
   "metadata": {},
   "outputs": [],
   "source": [
    "#合并这些方法,找到所有的频繁项集\n",
    "def Apriori(dataSet, minSupport=0.5):    \n",
    "    \"\"\"    \n",
    "    dataSet: 数据集    \n",
    "    minSupport: 最小支持度            \n",
    "    \"\"\" \n",
    "    # 单个物品项组成的集合    \n",
    "    C1 = createC1(dataSet)    \n",
    "    # 集合表示的数据集D    \n",
    "    D = list(map(set, dataSet))    \n",
    "    L1, supportData = scanD(D, C1, minSupport)    \n",
    "    L = [L1]    \n",
    "    k = 2    \n",
    "    while len(L[k - 2]) > 0:        \n",
    "        Ck = aprioriGen(L[k - 2], k)        \n",
    "        Lk, supK = scanD(D, Ck, minSupport)        \n",
    "        supportData.update(supK)        \n",
    "        L.append(Lk)        \n",
    "        k += 1    \n",
    "    return L, supportData"
   ]
  },
  {
   "cell_type": "code",
   "execution_count": 112,
   "metadata": {},
   "outputs": [],
   "source": [
    "L,supportData = Apriori(dataSet)"
   ]
  },
  {
   "cell_type": "code",
   "execution_count": 113,
   "metadata": {},
   "outputs": [
    {
     "data": {
      "text/plain": [
       "[[frozenset({5}), frozenset({2}), frozenset({3}), frozenset({1})],\n",
       " [frozenset({2, 3}), frozenset({3, 5}), frozenset({2, 5}), frozenset({1, 3})],\n",
       " [frozenset({2, 3, 5})],\n",
       " []]"
      ]
     },
     "execution_count": 113,
     "metadata": {},
     "output_type": "execute_result"
    }
   ],
   "source": [
    "L"
   ]
  },
  {
   "cell_type": "code",
   "execution_count": 114,
   "metadata": {},
   "outputs": [],
   "source": [
    "#以上内容为找出频繁项集\n",
    "#接下来找出生成规则"
   ]
  },
  {
   "cell_type": "markdown",
   "metadata": {},
   "source": [
    "#### 5、生成关联规则\n",
    "- calcConf：计算关联规则的置信度\n",
    "- relusFromConseq：从项集中生成更多的关联规则\n",
    "- generateRules：生成最终关联规则"
   ]
  },
  {
   "cell_type": "code",
   "execution_count": 115,
   "metadata": {},
   "outputs": [],
   "source": [
    "def calcConf(freqSet, H, supportData, bigRuleList, minConf=0.7):    \n",
    "    \"\"\"    \n",
    "    从频繁项集freqSet，计算关联规则(freqSet - H) --> H的置信度    \n",
    "    并过滤置信度低于最小置信度阈值的规则    \n",
    "    :param freqSet: 频繁项集    \n",
    "    :param H: 出现在规则右部    \n",
    "    :param supportData: 支持度字典    \n",
    "    :param bigRuleList: 关联规则列表    \n",
    "    :param minConf: 最小置信度阈值    \n",
    "    :return: 满足最小可信度要求的规则列表    \n",
    "    \"\"\"    \n",
    "    # 初始化满足最小可信度要求的规则列表    \n",
    "    prunedH = []    \n",
    "    for conseq in H:        \n",
    "        conf = supportData[freqSet] / supportData[freqSet - conseq]        \n",
    "        if conf >= minConf:            \n",
    "            print(freqSet-conseq, \"-->\", conseq, \"conf : \", conf)            \n",
    "            bigRuleList.append((freqSet - conseq, conseq, conf))            \n",
    "            # 与bigRuleList对应的置信度值列表            \n",
    "            prunedH.append(conseq)    \n",
    "    return prunedH"
   ]
  },
  {
   "cell_type": "code",
   "execution_count": 116,
   "metadata": {},
   "outputs": [],
   "source": [
    "def rulesFromConseq(freqSet, H, supportData, bigRuleList, minConf=0.7):   \n",
    "    \"\"\"    \n",
    "    由于freqSet中的元素个数大于等于3，计算规则的右部为多个元素的情形   \n",
    "    :param freqSet: 频繁项集    :param H: 出现在规则右部的元素列表  \n",
    "    :param supportData: 支持度列表    \n",
    "    :param bigRuleList: 关联规则列表    \n",
    "    :param minConf: 最小置信度阈值   \n",
    "    :return:    \"\"\"   \n",
    "    m = len(H[0])    \n",
    "    # m + 1，其实示一个递归变量，递归地增加右部元素个数   \n",
    "    if len(freqSet) > (m + 1):        \n",
    "        # 合并元素，任意组合成m+1个元素的项集        \n",
    "        Hmp1 = aprioriGen(H, m + 1)        \n",
    "        # 过滤关联规则(freqSet - Hmp1) --> Hmp1的置信度小于最小置信度阈值的规则        \n",
    "        # 规则右部有m + 1个元素        \n",
    "        Hmp1 = calcConf(freqSet, Hmp1, supportData, bigRuleList, minConf)        \n",
    "        # 递归累加右部元素个数        \n",
    "        if len(Hmp1) > 1:            \n",
    "            rulesFromConseq(freqSet, Hmp1, supportData, bigRuleList, minConf)   \n",
    "    else:       \n",
    "        # 当右部元素个数和频繁项集freqSet的长度一样时，不再划分，返回       \n",
    "        return          "
   ]
  },
  {
   "cell_type": "code",
   "execution_count": 117,
   "metadata": {},
   "outputs": [],
   "source": [
    "def generateRules(L, supportData, minConf=0.7):    \n",
    "    \"\"\"    \n",
    "    基于给定的频繁项集L和支持度supportData，计算满足最小支持度阈值的规则    \n",
    "    :param L: 频繁项集列表    \n",
    "    :param supportData: 包含那些频繁项集支持数据的字典    \n",
    "    :param minConf: 最小置信度阈值    \n",
    "    :return: 包含可信度的规则列表   \n",
    "    \"\"\"    \n",
    "    # 初始化规则存放列表    \n",
    "    bigRuleList = []    \n",
    "    # 遍历频繁项集    \n",
    "    for i in range(1, len(L)):        \n",
    "        for freqSet in L[i]:            \n",
    "            # 只包含单个元素集合的列表H1            \n",
    "            H1 = [frozenset([item]) for item in freqSet]            \n",
    "            # 过滤关联规则(freqSet - H1) --> H1的置信度小于最小置信度阈值的规则            \n",
    "            # H1是右部为单个元素的情形            \n",
    "            H1 = calcConf(freqSet, H1, supportData, bigRuleList, minConf)            \n",
    "            if i > 1:                \n",
    "                # 如果频繁项集中元素个数大于等于3，就需要考虑右部为多个元素的情形                \n",
    "                rulesFromConseq(freqSet, H1, supportData, bigRuleList, minConf)    \n",
    "    return bigRuleList "
   ]
  },
  {
   "cell_type": "code",
   "execution_count": 118,
   "metadata": {},
   "outputs": [
    {
     "data": {
      "text/plain": [
       "[[frozenset({5}), frozenset({2}), frozenset({3}), frozenset({1})],\n",
       " [frozenset({2, 3}), frozenset({3, 5}), frozenset({2, 5}), frozenset({1, 3})],\n",
       " [frozenset({2, 3, 5})],\n",
       " []]"
      ]
     },
     "execution_count": 118,
     "metadata": {},
     "output_type": "execute_result"
    }
   ],
   "source": [
    "L,supportData = Apriori(dataSet,minSupport=0.5)\n",
    "L"
   ]
  },
  {
   "cell_type": "code",
   "execution_count": 119,
   "metadata": {},
   "outputs": [
    {
     "data": {
      "text/plain": [
       "{frozenset({1}): 0.5,\n",
       " frozenset({3}): 0.75,\n",
       " frozenset({4}): 0.25,\n",
       " frozenset({2}): 0.75,\n",
       " frozenset({5}): 0.75,\n",
       " frozenset({1, 3}): 0.5,\n",
       " frozenset({2, 5}): 0.75,\n",
       " frozenset({3, 5}): 0.5,\n",
       " frozenset({2, 3}): 0.5,\n",
       " frozenset({1, 5}): 0.25,\n",
       " frozenset({1, 2}): 0.25,\n",
       " frozenset({2, 3, 5}): 0.5}"
      ]
     },
     "execution_count": 119,
     "metadata": {},
     "output_type": "execute_result"
    }
   ],
   "source": [
    "supportData"
   ]
  },
  {
   "cell_type": "code",
   "execution_count": 120,
   "metadata": {},
   "outputs": [
    {
     "name": "stdout",
     "output_type": "stream",
     "text": [
      "frozenset({5}) --> frozenset({2}) conf :  1.0\n",
      "frozenset({2}) --> frozenset({5}) conf :  1.0\n",
      "frozenset({1}) --> frozenset({3}) conf :  1.0\n",
      "frozenset({3, 5}) --> frozenset({2}) conf :  1.0\n",
      "frozenset({2, 3}) --> frozenset({5}) conf :  1.0\n"
     ]
    }
   ],
   "source": [
    "relus = generateRules(L,supportData,minConf=0.7)"
   ]
  },
  {
   "cell_type": "code",
   "execution_count": 121,
   "metadata": {},
   "outputs": [
    {
     "data": {
      "text/plain": [
       "[(frozenset({5}), frozenset({2}), 1.0),\n",
       " (frozenset({2}), frozenset({5}), 1.0),\n",
       " (frozenset({1}), frozenset({3}), 1.0),\n",
       " (frozenset({3, 5}), frozenset({2}), 1.0),\n",
       " (frozenset({2, 3}), frozenset({5}), 1.0)]"
      ]
     },
     "execution_count": 121,
     "metadata": {},
     "output_type": "execute_result"
    }
   ],
   "source": [
    "relus"
   ]
  },
  {
   "cell_type": "code",
   "execution_count": null,
   "metadata": {},
   "outputs": [],
   "source": []
  }
 ],
 "metadata": {
  "kernelspec": {
   "display_name": "Python 3",
   "language": "python",
   "name": "python3"
  },
  "language_info": {
   "codemirror_mode": {
    "name": "ipython",
    "version": 3
   },
   "file_extension": ".py",
   "mimetype": "text/x-python",
   "name": "python",
   "nbconvert_exporter": "python",
   "pygments_lexer": "ipython3",
   "version": "3.6.5"
  }
 },
 "nbformat": 4,
 "nbformat_minor": 2
}
