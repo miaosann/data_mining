{
 "cells": [
  {
   "cell_type": "code",
   "execution_count": 133,
   "metadata": {},
   "outputs": [],
   "source": [
    "import numpy as np"
   ]
  },
  {
   "cell_type": "code",
   "execution_count": 134,
   "metadata": {},
   "outputs": [],
   "source": [
    "def loadDataSet(filename):\n",
    "    dataMat = []\n",
    "    fr = open(filename)\n",
    "    for line in fr.readlines():\n",
    "        temp = []\n",
    "        curLine = line.strip().split('\\t')\n",
    "        temp.append(curLine[0])\n",
    "        temp.append(curLine[1])\n",
    "        dataMat.append(temp)\n",
    "    return dataMat"
   ]
  },
  {
   "cell_type": "code",
   "execution_count": 135,
   "metadata": {},
   "outputs": [],
   "source": [
    "dataSet = loadDataSet(\"C:\\\\Users\\\\miaoh\\\\Desktop\\\\Python_Project\\\\Kmeans\\\\dataSet.txt\")"
   ]
  },
  {
   "cell_type": "code",
   "execution_count": 136,
   "metadata": {},
   "outputs": [],
   "source": [
    "dataMat = np.matrix(dataSet)"
   ]
  },
  {
   "cell_type": "code",
   "execution_count": 137,
   "metadata": {},
   "outputs": [
    {
     "data": {
      "text/plain": [
       "matrix([['1.658985'],\n",
       "        ['-3.453687'],\n",
       "        ['4.838138'],\n",
       "        ['-5.379713'],\n",
       "        ['0.972564'],\n",
       "        ['-3.567919'],\n",
       "        ['0.450614'],\n",
       "        ['-3.487105'],\n",
       "        ['2.668759'],\n",
       "        ['-3.156485'],\n",
       "        ['3.165506'],\n",
       "        ['-2.786837'],\n",
       "        ['4.208187'],\n",
       "        ['-2.123337'],\n",
       "        ['0.704199'],\n",
       "        ['-0.392370'],\n",
       "        ['2.831667'],\n",
       "        ['-0.790153'],\n",
       "        ['2.943496'],\n",
       "        ['-3.195883'],\n",
       "        ['2.336445'],\n",
       "        ['-1.786345'],\n",
       "        ['2.190101'],\n",
       "        ['-3.403367'],\n",
       "        ['1.778124'],\n",
       "        ['-1.688346'],\n",
       "        ['2.592976'],\n",
       "        ['-4.007257'],\n",
       "        ['2.257734'],\n",
       "        ['-2.679011'],\n",
       "        ['0.939512'],\n",
       "        ['-3.674424'],\n",
       "        ['2.046259'],\n",
       "        ['-3.189470'],\n",
       "        ['4.372646'],\n",
       "        ['-2.579316'],\n",
       "        ['1.889034'],\n",
       "        ['-0.798747'],\n",
       "        ['2.836520'],\n",
       "        ['-3.837877'],\n",
       "        ['2.096701'],\n",
       "        ['-2.709034'],\n",
       "        ['3.367037'],\n",
       "        ['-2.121479'],\n",
       "        ['2.329546'],\n",
       "        ['-3.284816'],\n",
       "        ['3.091414'],\n",
       "        ['-3.762093'],\n",
       "        ['3.542056'],\n",
       "        ['-1.736822'],\n",
       "        ['2.127073'],\n",
       "        ['-4.323818'],\n",
       "        ['3.792121'],\n",
       "        ['-4.786473'],\n",
       "        ['2.624081'],\n",
       "        ['-4.009299'],\n",
       "        ['2.493525'],\n",
       "        ['-2.513661'],\n",
       "        ['1.864375'],\n",
       "        ['-3.171184'],\n",
       "        ['2.894220'],\n",
       "        ['-2.562539'],\n",
       "        ['3.491078'],\n",
       "        ['-2.565729'],\n",
       "        ['3.332948'],\n",
       "        ['-1.616805'],\n",
       "        ['2.280615'],\n",
       "        ['-2.651229'],\n",
       "        ['2.321395'],\n",
       "        ['-1.685703'],\n",
       "        ['3.031012'],\n",
       "        ['-4.599622'],\n",
       "        ['4.196223'],\n",
       "        ['-2.133863'],\n",
       "        ['4.668892'],\n",
       "        ['-2.793241'],\n",
       "        ['2.884105'],\n",
       "        ['-2.967647'],\n",
       "        ['4.479332'],\n",
       "        ['-4.905566']], dtype='<U9')"
      ]
     },
     "execution_count": 137,
     "metadata": {},
     "output_type": "execute_result"
    }
   ],
   "source": [
    "dataMat[:,0]"
   ]
  },
  {
   "cell_type": "code",
   "execution_count": 138,
   "metadata": {},
   "outputs": [],
   "source": [
    "def distEclud(vecA,vecB):\n",
    "    return np.sqrt(np.sum(np.power(vecA.astype('float64') - vecB.astype('float64'), 2)))"
   ]
  },
  {
   "cell_type": "code",
   "execution_count": 195,
   "metadata": {},
   "outputs": [],
   "source": [
    "# def randCent(dataSet,k):\n",
    "#     n = dataSet.shape[1]\n",
    "#     centroids = np.matrix(np.zeros((k,n)))\n",
    "#     print(centroids)\n",
    "#     for j in range(n):\n",
    "#         minJ= min(dataSet[:,j])\n",
    "#         maxJ= max(dataSet[:,j])\n",
    "#         rangeJ=float(np.subtract(float(maxJ),float(minJ)))\n",
    "#         centroids[:,j]=np.matrix(float(minJ) + rangeJ * np.random.rand(k,1))\n",
    "#     return centroids\n",
    "def randCent(dataSet, k):\n",
    "    n = np.shape(dataSet)[1]\n",
    "    centroids = np.matrix(np.zeros((k,n)))#create centroid mat\n",
    "    for j in range(n):#create random cluster centers, within bounds of each dimension\n",
    "        minJ = min(dataSet[:,j])\n",
    "        rangeJ = float(float(max(dataSet[:,j])) - float(minJ))\n",
    "        centroids[:,j] = np.matrix(float(minJ) + rangeJ * np.random.rand(k,1))\n",
    "    return centroids"
   ]
  },
  {
   "cell_type": "code",
   "execution_count": 196,
   "metadata": {},
   "outputs": [
    {
     "data": {
      "text/plain": [
       "matrix([[ 2.22821329,  4.69718767],\n",
       "        [ 1.84913379,  4.22436258],\n",
       "        [ 1.11613081, -0.47229121],\n",
       "        [ 2.36261667,  2.83792953]])"
      ]
     },
     "execution_count": 196,
     "metadata": {},
     "output_type": "execute_result"
    }
   ],
   "source": [
    "randCent(dataMat,4)"
   ]
  },
  {
   "cell_type": "code",
   "execution_count": 209,
   "metadata": {},
   "outputs": [],
   "source": [
    "def kMeans(dataSet,k,distMeas=distEclud,createCent=randCent):\n",
    "    #获取数据集样本数\n",
    "    m=dataSet.shape[0]\n",
    "    #初始化一个(m,2)的矩阵\n",
    "    clusterAssment=np.matrix(np.zeros((m,2)))\n",
    "    #创建初始的k个质心向量\n",
    "    centroids=createCent(dataSet,k)\n",
    "    #聚类结果是否发生变化的布尔类型\n",
    "    clusterChanged=True\n",
    "    #只要聚类结果一直发生变化，就一直执行聚类算法，直至所有数据点聚类结果不变化\n",
    "    while clusterChanged:\n",
    "        #聚类结果变化布尔类型置为false\n",
    "        clusterChanged=False\n",
    "        #遍历数据集每一个样本向量\n",
    "        for i in range(m):\n",
    "            #初始化最小距离最正无穷；最小距离对应索引为-1\n",
    "            minDist=float(\"inf\") \n",
    "            minIndex=-1\n",
    "            #循环k个类的质心\n",
    "            for j in range(k):\n",
    "                #计算数据点到质心的欧氏距离\n",
    "                distJI=distMeas(centroids[j,:],dataSet[i,:])\n",
    "                #如果距离小于当前最小距离\n",
    "                if distJI<minDist:\n",
    "                    #当前距离定为当前最小距离；最小距离对应索引对应为j(第j个类)\n",
    "                    minDist=distJI;minIndex=j\n",
    "            #当前聚类结果中第i个样本的聚类结果发生变化：布尔类型置为true，继续聚类算法\n",
    "            if clusterAssment[i,0] !=minIndex:clusterChanged=True\n",
    "            #更新当前变化样本的聚类结果和平方误差\n",
    "            clusterAssment[i,:]=minIndex,minDist**2\n",
    "        #打印k-均值聚类的质心\n",
    "        print(centroids)\n",
    "        #遍历每一个质心\n",
    "        for cent in range(k):\n",
    "            #将数据集中所有属于当前质心类的样本通过条件过滤筛选出来\n",
    "            ptsInClust=dataSet[np.nonzero(clusterAssment[:,0].A==cent)[0]]\n",
    "            #计算这些数据的均值（axis=0：求列的均值），作为该类质心向量\n",
    "            centroids[cent,:]=np.mean(ptsInClust.astype('float64'),axis=0)\n",
    "    #返回k个聚类，聚类结果及误差\n",
    "    return centroids,clusterAssment"
   ]
  },
  {
   "cell_type": "code",
   "execution_count": 225,
   "metadata": {},
   "outputs": [
    {
     "name": "stdout",
     "output_type": "stream",
     "text": [
      "[[2.53765409 4.46859382]\n",
      " [1.20282628 0.00952755]\n",
      " [2.38581895 0.07972109]\n",
      " [1.85915084 4.91133833]]\n",
      "[[ 2.75537238  3.34728723]\n",
      " [-2.579279   -1.27481849]\n",
      " [ 3.21450455 -1.86947365]\n",
      " [-1.510352    3.56979017]]\n",
      "[[ 2.6265299   3.10868015]\n",
      " [-3.34887714 -2.76960033]\n",
      " [ 2.80293085 -2.7315146 ]\n",
      " [-2.45009747  2.89275747]]\n",
      "[[ 2.6265299   3.10868015]\n",
      " [-3.38237045 -2.9473363 ]\n",
      " [ 2.80293085 -2.7315146 ]\n",
      " [-2.46154315  2.78737555]]\n"
     ]
    }
   ],
   "source": [
    "a,b = kMeans(dataMat,4)"
   ]
  },
  {
   "cell_type": "code",
   "execution_count": 226,
   "metadata": {},
   "outputs": [
    {
     "data": {
      "text/plain": [
       "matrix([[ 2.6265299 ,  3.10868015],\n",
       "        [-3.38237045, -2.9473363 ],\n",
       "        [ 2.80293085, -2.7315146 ],\n",
       "        [-2.46154315,  2.78737555]])"
      ]
     },
     "execution_count": 226,
     "metadata": {},
     "output_type": "execute_result"
    }
   ],
   "source": [
    "a"
   ]
  },
  {
   "cell_type": "code",
   "execution_count": 227,
   "metadata": {},
   "outputs": [],
   "source": [
    "import matplotlib.pyplot as plt"
   ]
  },
  {
   "cell_type": "code",
   "execution_count": 228,
   "metadata": {},
   "outputs": [
    {
     "data": {
      "image/png": "[encoded data removed]",
      "text/plain": [
       "<Figure size 720x648 with 1 Axes>"
      ]
     },
     "metadata": {},
     "output_type": "display_data"
    }
   ],
   "source": [
    "plt.figure(figsize=(10,9))\n",
    "plt.scatter(list(dataMat[:,0]), list(dataMat[:,1]), c = \"blue\" , marker=\"*\")\n",
    "plt.scatter(list(a[:,0]), list(a[:,1]), c = \"red\",marker=\"o\")\n",
    "plt.rc('font', family='STXihei', size=15) \n",
    "plt.title(\"Kmeans\")\n",
    "plt.xlabel(\"x\")\n",
    "plt.ylabel(\"y\")\n",
    "plt.grid(color='#95a5a6',linestyle='--',linewidth=3,axis='both',alpha= 0.4) \n",
    "fig = plt.gcf()"
   ]
  },
  {
   "cell_type": "code",
   "execution_count": null,
   "metadata": {},
   "outputs": [],
   "source": [
    "#二分"
   ]
  },
  {
   "cell_type": "code",
   "execution_count": 293,
   "metadata": {},
   "outputs": [],
   "source": [
    "def biKmeans(dataSet,k,distMeas=distEclud):\n",
    "    #获取数据集样本数\n",
    "    m=dataSet.shape[0]\n",
    "    #初始化一个(m,2)的矩阵\n",
    "    clusterAssment=np.mat(np.zeros((m,2)))\n",
    "    #获取数据集每一列数据的均值，组成一个长为列数的列表\n",
    "    centroid0=np.mean(dataSet.astype('float'),axis=0).tolist()[0]\n",
    "    #当前聚类列表为将数据集聚为一类\n",
    "    centList=[centroid0]\n",
    "    #遍历每个数据集样本\n",
    "    for j in range(m):\n",
    "        #计算当前聚为一类时各个数据点距离质心的平方距离\n",
    "        clusterAssment[j,1]=distMeas(np.mat(centroid0),dataSet[j,:])**2\n",
    "    #循环，直至二分k-均值达到k类为止\n",
    "    while (len(centList)<k):\n",
    "        #将当前最小平方误差置为正无穷\n",
    "        lowerSSE=float(\"inf\") \n",
    "        #遍历当前每个聚类\n",
    "        for i in range(len(centList)):\n",
    "            #通过数组过滤筛选出属于第i类的数据集合\n",
    "            ptsInCurrCluster=dataSet[np.nonzero(clusterAssment[:,0].A==i)[0],:]\n",
    "            #对该类利用二分k-均值算法进行划分，返回划分后结果，及误差\n",
    "            centroidMat,splitClustAss=kMeans(ptsInCurrCluster,2,distMeas)\n",
    "            #计算该类划分后两个类的误差平方和\n",
    "            sseSplit=sum(splitClustAss[:,1])\n",
    "            #计算数据集中不属于该类的数据的误差平方和\n",
    "            sseNotSplit=sum(clusterAssment[np.nonzero(clusterAssment[:,0].A!=i)[0],1])\n",
    "            #打印这两项误差值\n",
    "            print('sseSplit,and notSplit:',(sseSplit,sseNotSplit))\n",
    "            #划分第i类后总误差小于当前最小总误差\n",
    "            if(sseSplit+sseNotSplit)<lowerSSE:\n",
    "                #第i类作为本次划分类\n",
    "                bestCentToSplit=i\n",
    "                #第i类划分后得到的两个质心向量\n",
    "                bestNewCents=centroidMat\n",
    "                #复制第i类中数据点的聚类结果即误差值\n",
    "                bestClustAss=splitClustAss.copy()\n",
    "                #将划分第i类后的总误差作为当前最小误差\n",
    "                lowerSSE=sseSplit+sseNotSplit\n",
    "        #数组过滤筛选出本次2-均值聚类划分后类编号为1数据点，将这些数据点类编号变为\n",
    "        #当前类个数+1，作为新的一个聚类\n",
    "        bestClustAss[np.nonzero(bestClustAss[:,0].A==1)[0],0]= len(centList)\n",
    "        #同理，将划分数据集中类编号为0的数据点的类编号仍置为被划分的类编号，使类编号\n",
    "        #连续不出现空缺\n",
    "        bestClustAss[np.nonzero(bestClustAss[:,0].A==0)[0],0]=bestCentToSplit\n",
    "        #打印本次执行2-均值聚类算法的类\n",
    "        print('the bestCentToSplit is:',bestCentToSplit)\n",
    "        #打印被划分的类的数据个数\n",
    "        print('the len of bestClustAss is:',(len(bestClustAss)))\n",
    "        #更新质心列表中的变化后的质心向量\n",
    "        centList[bestCentToSplit]=bestNewCents[0,:]\n",
    "        #添加新的类的质心向量\n",
    "        centList.append(bestNewCents[1,:])\n",
    "        #更新clusterAssment列表中参与2-均值聚类数据点变化后的分类编号，及数据该类的误差平方\n",
    "        clusterAssment[np.nonzero(clusterAssment[:,0].A==bestCentToSplit)[0],:]=bestClustAss\n",
    "    #返回聚类结果\n",
    "    return centList,clusterAssment"
   ]
  },
  {
   "cell_type": "code",
   "execution_count": 294,
   "metadata": {},
   "outputs": [
    {
     "name": "stdout",
     "output_type": "stream",
     "text": [
      "[[ 1.03005737  0.69641569]\n",
      " [ 2.91834047 -0.60646521]]\n",
      "[[-0.67235448  2.02595687]\n",
      " [ 1.53321007 -1.40530064]]\n",
      "[[-0.38704247  3.38960056]\n",
      " [ 0.18625683 -2.02107554]]\n",
      "[[-0.06953469  3.29844341]\n",
      " [-0.32150057 -2.62473743]]\n",
      "[[-0.00675605  3.22710297]\n",
      " [-0.45965615 -2.7782156 ]]\n",
      "sseSplit,and notSplit: (matrix([[453.03348958]]), 0)\n",
      "the bestCentToSplit is: 0\n",
      "the len of bestClustAss is: 60\n",
      "[[1.82402831 3.46883962]\n",
      " [0.24533112 1.60184534]]\n",
      "[[ 2.95977168  3.26903847]\n",
      " [-2.69075733  3.18916133]]\n",
      "[[ 2.93386365  3.12782785]\n",
      " [-2.94737575  3.3263781 ]]\n",
      "sseSplit,and notSplit: (matrix([[77.59224932]]), matrix([[29.15724944]]))\n",
      "[[-0.02353842 -1.69954169]\n",
      " [ 0.12514072 -3.05007874]]\n",
      "[[-1.3776246  -1.6522424 ]\n",
      " [-0.15366667 -3.15354   ]]\n",
      "[[-1.41084317 -1.873139  ]\n",
      " [-0.05200457 -3.16610557]]\n",
      "[[-1.31198114e+00 -1.96162114e+00]\n",
      " [-7.11923077e-04 -3.21792031e+00]]\n",
      "[[-1.26873575 -2.07139688]\n",
      " [ 0.07973025 -3.24942808]]\n",
      "[[-1.26405367 -2.209896  ]\n",
      " [ 0.19848727 -3.24320436]]\n",
      "[[-1.1836084 -2.2507069]\n",
      " [ 0.2642961 -3.3057243]]\n",
      "[[-1.12616164 -2.30193564]\n",
      " [ 0.35496167 -3.36033556]]\n",
      "sseSplit,and notSplit: (matrix([[12.75326314]]), matrix([[423.87624014]]))\n",
      "the bestCentToSplit is: 0\n",
      "the len of bestClustAss is: 40\n"
     ]
    }
   ],
   "source": [
    "dataSet2 = loadDataSet(\"C:\\\\Users\\\\miaoh\\\\Desktop\\\\Python_Project\\\\Kmeans\\\\dataSet2.txt\")\n",
    "dataMat2 = np.mat(dataSet2)\n",
    "a,b = biKmeans(dataMat2,3)"
   ]
  },
  {
   "cell_type": "code",
   "execution_count": 310,
   "metadata": {},
   "outputs": [],
   "source": [
    "x = []\n",
    "y = []\n",
    "for i in a:\n",
    "    x.append(i[0,0])\n",
    "    y.append(i[0,1])"
   ]
  },
  {
   "cell_type": "code",
   "execution_count": 314,
   "metadata": {},
   "outputs": [
    {
     "data": {
      "text/plain": [
       "[2.93386365, -0.45965614999999993, -2.94737575]"
      ]
     },
     "execution_count": 314,
     "metadata": {},
     "output_type": "execute_result"
    }
   ],
   "source": [
    "list(x)"
   ]
  },
  {
   "cell_type": "code",
   "execution_count": 318,
   "metadata": {},
   "outputs": [
    {
     "data": {
      "image/png": "[encoded data removed]",
      "text/plain": [
       "<Figure size 720x648 with 1 Axes>"
      ]
     },
     "metadata": {},
     "output_type": "display_data"
    }
   ],
   "source": [
    "plt.figure(figsize=(10,9))\n",
    "plt.scatter(list(dataMat2[:,0]),list(dataMat2[:,1]), c = \"blue\" , marker=\"*\")\n",
    "plt.scatter(x, y, c = \"red\",marker=\"o\")\n",
    "plt.rc('font', family='STXihei', size=15) \n",
    "plt.title(\"Kmeans\")\n",
    "plt.xlabel(\"x\")\n",
    "plt.ylabel(\"y\")\n",
    "plt.grid(color='#95a5a6',linestyle='--',linewidth=3,axis='both',alpha= 0.4) \n",
    "fig = plt.gcf()"
   ]
  },
  {
   "cell_type": "code",
   "execution_count": null,
   "metadata": {},
   "outputs": [],
   "source": []
  }
 ],
 "metadata": {
  "kernelspec": {
   "display_name": "Python 3",
   "language": "python",
   "name": "python3"
  },
  "language_info": {
   "codemirror_mode": {
    "name": "ipython",
    "version": 3
   },
   "file_extension": ".py",
   "mimetype": "text/x-python",
   "name": "python",
   "nbconvert_exporter": "python",
   "pygments_lexer": "ipython3",
   "version": "3.6.5"
  }
 },
 "nbformat": 4,
 "nbformat_minor": 2
}
