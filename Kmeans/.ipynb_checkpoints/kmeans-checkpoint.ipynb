{
 "cells": [
  {
   "cell_type": "code",
   "execution_count": 1,
   "metadata": {},
   "outputs": [],
   "source": [
    "import numpy as np"
   ]
  },
  {
   "cell_type": "code",
   "execution_count": 11,
   "metadata": {},
   "outputs": [],
   "source": [
    "def loadDataSet(filename):\n",
    "    dataMat = []\n",
    "    fr = open(filename)\n",
    "    for line in fr.readlines():\n",
    "        temp = []\n",
    "        curLine = line.strip().split('\\t')\n",
    "        temp.append(curLine[0])\n",
    "        temp.append(curLine[1])\n",
    "        dataMat.append(temp)\n",
    "    return dataMat"
   ]
  },
  {
   "cell_type": "code",
   "execution_count": 12,
   "metadata": {},
   "outputs": [],
   "source": [
    "dataSet = loadDataSet(\"C:\\\\Users\\\\miaoh\\\\Desktop\\\\Python_Project\\\\Kmeans\\\\dataSet.txt\")"
   ]
  },
  {
   "cell_type": "code",
   "execution_count": 13,
   "metadata": {},
   "outputs": [],
   "source": [
    "dataMat = np.matrix(dataSet)"
   ]
  },
  {
   "cell_type": "code",
   "execution_count": 14,
   "metadata": {},
   "outputs": [
    {
     "data": {
      "text/plain": [
       "matrix([['1.658985', '4.285136'],\n",
       "        ['-3.453687', '3.424321'],\n",
       "        ['4.838138', '-1.151539'],\n",
       "        ['-5.379713', '-3.362104'],\n",
       "        ['0.972564', '2.924086'],\n",
       "        ['-3.567919', '1.531611'],\n",
       "        ['0.450614', '-3.302219'],\n",
       "        ['-3.487105', '-1.724432'],\n",
       "        ['2.668759', '1.594842'],\n",
       "        ['-3.156485', '3.191137'],\n",
       "        ['3.165506', '-3.999838'],\n",
       "        ['-2.786837', '-3.099354'],\n",
       "        ['4.208187', '2.984927'],\n",
       "        ['-2.123337', '2.943366'],\n",
       "        ['0.704199', '-0.479481'],\n",
       "        ['-0.392370', '-3.963704'],\n",
       "        ['2.831667', '1.574018'],\n",
       "        ['-0.790153', '3.343144'],\n",
       "        ['2.943496', '-3.357075'],\n",
       "        ['-3.195883', '-2.283926'],\n",
       "        ['2.336445', '2.875106'],\n",
       "        ['-1.786345', '2.554248'],\n",
       "        ['2.190101', '-1.906020'],\n",
       "        ['-3.403367', '-2.778288'],\n",
       "        ['1.778124', '3.880832'],\n",
       "        ['-1.688346', '2.230267'],\n",
       "        ['2.592976', '-2.054368'],\n",
       "        ['-4.007257', '-3.207066'],\n",
       "        ['2.257734', '3.387564'],\n",
       "        ['-2.679011', '0.785119'],\n",
       "        ['0.939512', '-4.023563'],\n",
       "        ['-3.674424', '-2.261084'],\n",
       "        ['2.046259', '2.735279'],\n",
       "        ['-3.189470', '1.780269'],\n",
       "        ['4.372646', '-0.822248'],\n",
       "        ['-2.579316', '-3.497576'],\n",
       "        ['1.889034', '5.190400'],\n",
       "        ['-0.798747', '2.185588'],\n",
       "        ['2.836520', '-2.658556'],\n",
       "        ['-3.837877', '-3.253815'],\n",
       "        ['2.096701', '3.886007'],\n",
       "        ['-2.709034', '2.923887'],\n",
       "        ['3.367037', '-3.184789'],\n",
       "        ['-2.121479', '-4.232586'],\n",
       "        ['2.329546', '3.179764'],\n",
       "        ['-3.284816', '3.273099'],\n",
       "        ['3.091414', '-3.815232'],\n",
       "        ['-3.762093', '-2.432191'],\n",
       "        ['3.542056', '2.778832'],\n",
       "        ['-1.736822', '4.241041'],\n",
       "        ['2.127073', '-2.983680'],\n",
       "        ['-4.323818', '-3.938116'],\n",
       "        ['3.792121', '5.135768'],\n",
       "        ['-4.786473', '3.358547'],\n",
       "        ['2.624081', '-3.260715'],\n",
       "        ['-4.009299', '-2.978115'],\n",
       "        ['2.493525', '1.963710'],\n",
       "        ['-2.513661', '2.642162'],\n",
       "        ['1.864375', '-3.176309'],\n",
       "        ['-3.171184', '-3.572452'],\n",
       "        ['2.894220', '2.489128'],\n",
       "        ['-2.562539', '2.884438'],\n",
       "        ['3.491078', '-3.947487'],\n",
       "        ['-2.565729', '-2.012114'],\n",
       "        ['3.332948', '3.983102'],\n",
       "        ['-1.616805', '3.573188'],\n",
       "        ['2.280615', '-2.559444'],\n",
       "        ['-2.651229', '-3.103198'],\n",
       "        ['2.321395', '3.154987'],\n",
       "        ['-1.685703', '2.939697'],\n",
       "        ['3.031012', '-3.620252'],\n",
       "        ['-4.599622', '-2.185829'],\n",
       "        ['4.196223', '1.126677'],\n",
       "        ['-2.133863', '3.093686'],\n",
       "        ['4.668892', '-2.562705'],\n",
       "        ['-2.793241', '-2.149706'],\n",
       "        ['2.884105', '3.043438'],\n",
       "        ['-2.967647', '2.848696'],\n",
       "        ['4.479332', '-1.764772'],\n",
       "        ['-4.905566', '-2.911070']], dtype='<U9')"
      ]
     },
     "execution_count": 14,
     "metadata": {},
     "output_type": "execute_result"
    }
   ],
   "source": [
    "dataMat"
   ]
  },
  {
   "cell_type": "code",
   "execution_count": 17,
   "metadata": {},
   "outputs": [],
   "source": [
    "def distEclud(vecA,vecB):\n",
    "    return np.sqrt(np.sum(np.power((vecA-vecB),2)))"
   ]
  },
  {
   "cell_type": "code",
   "execution_count": 43,
   "metadata": {},
   "outputs": [],
   "source": [
    "def randCent(dataSet,k):\n",
    "    n = dataSet.shape[1]\n",
    "    centroids = np.matrix(np.zeros((k,n)))\n",
    "    print(centroids)\n",
    "    for j in range(n):\n",
    "        minJ= min(dataSet[:,j])\n",
    "        maxJ= max(dataSet[:,j])\n",
    "        rangeJ=float(np.subtract(float(maxJ),float(minJ)))\n",
    "        centroids[:,j]=np.matrix(float(minJ) + rangeJ * np.random.rand(k,1))\n",
    "    return centroids"
   ]
  },
  {
   "cell_type": "code",
   "execution_count": 44,
   "metadata": {},
   "outputs": [
    {
     "name": "stdout",
     "output_type": "stream",
     "text": [
      "[[0. 0.]\n",
      " [0. 0.]]\n"
     ]
    },
    {
     "data": {
      "text/plain": [
       "matrix([[2.89492524, 2.03673303],\n",
       "        [4.48759282, 0.35163408]])"
      ]
     },
     "execution_count": 44,
     "metadata": {},
     "output_type": "execute_result"
    }
   ],
   "source": [
    "randCent(dataMat,2)"
   ]
  },
  {
   "cell_type": "code",
   "execution_count": null,
   "metadata": {},
   "outputs": [],
   "source": []
  }
 ],
 "metadata": {
  "kernelspec": {
   "display_name": "Python 3",
   "language": "python",
   "name": "python3"
  },
  "language_info": {
   "codemirror_mode": {
    "name": "ipython",
    "version": 3
   },
   "file_extension": ".py",
   "mimetype": "text/x-python",
   "name": "python",
   "nbconvert_exporter": "python",
   "pygments_lexer": "ipython3",
   "version": "3.6.5"
  }
 },
 "nbformat": 4,
 "nbformat_minor": 2
}
