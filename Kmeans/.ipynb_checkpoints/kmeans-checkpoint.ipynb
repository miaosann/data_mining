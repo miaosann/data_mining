{
 "cells": [
  {
   "cell_type": "code",
   "execution_count": 133,
   "metadata": {},
   "outputs": [],
   "source": [
    "import numpy as np"
   ]
  },
  {
   "cell_type": "code",
   "execution_count": 134,
   "metadata": {},
   "outputs": [],
   "source": [
    "def loadDataSet(filename):\n",
    "    dataMat = []\n",
    "    fr = open(filename)\n",
    "    for line in fr.readlines():\n",
    "        temp = []\n",
    "        curLine = line.strip().split('\\t')\n",
    "        temp.append(curLine[0])\n",
    "        temp.append(curLine[1])\n",
    "        dataMat.append(temp)\n",
    "    return dataMat"
   ]
  },
  {
   "cell_type": "code",
   "execution_count": 135,
   "metadata": {},
   "outputs": [],
   "source": [
    "dataSet = loadDataSet(\"C:\\\\Users\\\\miaoh\\\\Desktop\\\\Python_Project\\\\Kmeans\\\\dataSet.txt\")"
   ]
  },
  {
   "cell_type": "code",
   "execution_count": 136,
   "metadata": {},
   "outputs": [],
   "source": [
    "dataMat = np.matrix(dataSet)"
   ]
  },
  {
   "cell_type": "code",
   "execution_count": 137,
   "metadata": {},
   "outputs": [
    {
     "data": {
      "text/plain": [
       "matrix([['1.658985'],\n",
       "        ['-3.453687'],\n",
       "        ['4.838138'],\n",
       "        ['-5.379713'],\n",
       "        ['0.972564'],\n",
       "        ['-3.567919'],\n",
       "        ['0.450614'],\n",
       "        ['-3.487105'],\n",
       "        ['2.668759'],\n",
       "        ['-3.156485'],\n",
       "        ['3.165506'],\n",
       "        ['-2.786837'],\n",
       "        ['4.208187'],\n",
       "        ['-2.123337'],\n",
       "        ['0.704199'],\n",
       "        ['-0.392370'],\n",
       "        ['2.831667'],\n",
       "        ['-0.790153'],\n",
       "        ['2.943496'],\n",
       "        ['-3.195883'],\n",
       "        ['2.336445'],\n",
       "        ['-1.786345'],\n",
       "        ['2.190101'],\n",
       "        ['-3.403367'],\n",
       "        ['1.778124'],\n",
       "        ['-1.688346'],\n",
       "        ['2.592976'],\n",
       "        ['-4.007257'],\n",
       "        ['2.257734'],\n",
       "        ['-2.679011'],\n",
       "        ['0.939512'],\n",
       "        ['-3.674424'],\n",
       "        ['2.046259'],\n",
       "        ['-3.189470'],\n",
       "        ['4.372646'],\n",
       "        ['-2.579316'],\n",
       "        ['1.889034'],\n",
       "        ['-0.798747'],\n",
       "        ['2.836520'],\n",
       "        ['-3.837877'],\n",
       "        ['2.096701'],\n",
       "        ['-2.709034'],\n",
       "        ['3.367037'],\n",
       "        ['-2.121479'],\n",
       "        ['2.329546'],\n",
       "        ['-3.284816'],\n",
       "        ['3.091414'],\n",
       "        ['-3.762093'],\n",
       "        ['3.542056'],\n",
       "        ['-1.736822'],\n",
       "        ['2.127073'],\n",
       "        ['-4.323818'],\n",
       "        ['3.792121'],\n",
       "        ['-4.786473'],\n",
       "        ['2.624081'],\n",
       "        ['-4.009299'],\n",
       "        ['2.493525'],\n",
       "        ['-2.513661'],\n",
       "        ['1.864375'],\n",
       "        ['-3.171184'],\n",
       "        ['2.894220'],\n",
       "        ['-2.562539'],\n",
       "        ['3.491078'],\n",
       "        ['-2.565729'],\n",
       "        ['3.332948'],\n",
       "        ['-1.616805'],\n",
       "        ['2.280615'],\n",
       "        ['-2.651229'],\n",
       "        ['2.321395'],\n",
       "        ['-1.685703'],\n",
       "        ['3.031012'],\n",
       "        ['-4.599622'],\n",
       "        ['4.196223'],\n",
       "        ['-2.133863'],\n",
       "        ['4.668892'],\n",
       "        ['-2.793241'],\n",
       "        ['2.884105'],\n",
       "        ['-2.967647'],\n",
       "        ['4.479332'],\n",
       "        ['-4.905566']], dtype='<U9')"
      ]
     },
     "execution_count": 137,
     "metadata": {},
     "output_type": "execute_result"
    }
   ],
   "source": [
    "dataMat[:,0]"
   ]
  },
  {
   "cell_type": "code",
   "execution_count": 138,
   "metadata": {},
   "outputs": [],
   "source": [
    "def distEclud(vecA,vecB):\n",
    "    return np.sqrt(np.sum(np.power(vecA.astype('float64') - vecB.astype('float64'), 2)))"
   ]
  },
  {
   "cell_type": "code",
   "execution_count": 195,
   "metadata": {},
   "outputs": [],
   "source": [
    "# def randCent(dataSet,k):\n",
    "#     n = dataSet.shape[1]\n",
    "#     centroids = np.matrix(np.zeros((k,n)))\n",
    "#     print(centroids)\n",
    "#     for j in range(n):\n",
    "#         minJ= min(dataSet[:,j])\n",
    "#         maxJ= max(dataSet[:,j])\n",
    "#         rangeJ=float(np.subtract(float(maxJ),float(minJ)))\n",
    "#         centroids[:,j]=np.matrix(float(minJ) + rangeJ * np.random.rand(k,1))\n",
    "#     return centroids\n",
    "def randCent(dataSet, k):\n",
    "    n = np.shape(dataSet)[1]\n",
    "    centroids = np.matrix(np.zeros((k,n)))#create centroid mat\n",
    "    for j in range(n):#create random cluster centers, within bounds of each dimension\n",
    "        minJ = min(dataSet[:,j])\n",
    "        rangeJ = float(float(max(dataSet[:,j])) - float(minJ))\n",
    "        centroids[:,j] = np.matrix(float(minJ) + rangeJ * np.random.rand(k,1))\n",
    "    return centroids"
   ]
  },
  {
   "cell_type": "code",
   "execution_count": 196,
   "metadata": {},
   "outputs": [
    {
     "data": {
      "text/plain": [
       "matrix([[ 2.22821329,  4.69718767],\n",
       "        [ 1.84913379,  4.22436258],\n",
       "        [ 1.11613081, -0.47229121],\n",
       "        [ 2.36261667,  2.83792953]])"
      ]
     },
     "execution_count": 196,
     "metadata": {},
     "output_type": "execute_result"
    }
   ],
   "source": [
    "randCent(dataMat,4)"
   ]
  },
  {
   "cell_type": "code",
   "execution_count": 209,
   "metadata": {},
   "outputs": [],
   "source": [
    "def kMeans(dataSet,k,distMeas=distEclud,createCent=randCent):\n",
    "    #获取数据集样本数\n",
    "    m=dataSet.shape[0]\n",
    "    #初始化一个(m,2)的矩阵\n",
    "    clusterAssment=np.matrix(np.zeros((m,2)))\n",
    "    #创建初始的k个质心向量\n",
    "    centroids=createCent(dataSet,k)\n",
    "    #聚类结果是否发生变化的布尔类型\n",
    "    clusterChanged=True\n",
    "    #只要聚类结果一直发生变化，就一直执行聚类算法，直至所有数据点聚类结果不变化\n",
    "    while clusterChanged:\n",
    "        #聚类结果变化布尔类型置为false\n",
    "        clusterChanged=False\n",
    "        #遍历数据集每一个样本向量\n",
    "        for i in range(m):\n",
    "            #初始化最小距离最正无穷；最小距离对应索引为-1\n",
    "            minDist=float(\"inf\") \n",
    "            minIndex=-1\n",
    "            #循环k个类的质心\n",
    "            for j in range(k):\n",
    "                #计算数据点到质心的欧氏距离\n",
    "                distJI=distMeas(centroids[j,:],dataSet[i,:])\n",
    "                #如果距离小于当前最小距离\n",
    "                if distJI<minDist:\n",
    "                    #当前距离定为当前最小距离；最小距离对应索引对应为j(第j个类)\n",
    "                    minDist=distJI;minIndex=j\n",
    "            #当前聚类结果中第i个样本的聚类结果发生变化：布尔类型置为true，继续聚类算法\n",
    "            if clusterAssment[i,0] !=minIndex:clusterChanged=True\n",
    "            #更新当前变化样本的聚类结果和平方误差\n",
    "            clusterAssment[i,:]=minIndex,minDist**2\n",
    "        #打印k-均值聚类的质心\n",
    "        print(centroids)\n",
    "        #遍历每一个质心\n",
    "        for cent in range(k):\n",
    "            #将数据集中所有属于当前质心类的样本通过条件过滤筛选出来\n",
    "            ptsInClust=dataSet[np.nonzero(clusterAssment[:,0].A==cent)[0]]\n",
    "            #计算这些数据的均值（axis=0：求列的均值），作为该类质心向量\n",
    "            centroids[cent,:]=np.mean(ptsInClust.astype('float64'),axis=0)\n",
    "    #返回k个聚类，聚类结果及误差\n",
    "    return centroids,clusterAssment"
   ]
  },
  {
   "cell_type": "code",
   "execution_count": 210,
   "metadata": {},
   "outputs": [
    {
     "name": "stdout",
     "output_type": "stream",
     "text": [
      "[[1.12443156 3.17350614]\n",
      " [1.56979525 3.00303443]\n",
      " [4.00735351 4.94219293]\n",
      " [3.21323392 3.59091553]]\n",
      "[[-2.77693544  0.19448076]\n",
      " [ 2.23953311 -0.89113419]\n",
      " [ 3.792121    5.135768  ]\n",
      " [ 3.755071    1.39047636]]\n",
      "[[-2.986818    0.01960228]\n",
      " [ 2.65077367 -2.79019029]\n",
      " [ 2.40080671  4.24982986]\n",
      " [ 2.74807315  2.49421492]]\n",
      "[[-3.079971   -0.18431611]\n",
      " [ 2.65077367 -2.79019029]\n",
      " [ 1.58651911  4.14811044]\n",
      " [ 2.74807315  2.49421492]]\n",
      "[[-3.18695357 -0.35938491]\n",
      " [ 2.65077367 -2.79019029]\n",
      " [ 0.86388509  3.82115945]\n",
      " [ 2.92964115  2.57567769]]\n",
      "[[-3.34884281 -0.77772481]\n",
      " [ 2.65077367 -2.79019029]\n",
      " [-0.32895131  3.46464762]\n",
      " [ 2.942346    2.80047613]]\n",
      "[[-3.54251791 -2.066412  ]\n",
      " [ 2.65077367 -2.79019029]\n",
      " [-2.00208388  3.01270888]\n",
      " [ 2.71358074  3.11839563]]\n",
      "[[-3.53973889 -2.89384326]\n",
      " [ 2.65077367 -2.79019029]\n",
      " [-2.46154315  2.78737555]\n",
      " [ 2.6265299   3.10868015]]\n"
     ]
    }
   ],
   "source": [
    "a,b = kMeans(dataMat,4)"
   ]
  },
  {
   "cell_type": "code",
   "execution_count": 211,
   "metadata": {},
   "outputs": [
    {
     "data": {
      "text/plain": [
       "matrix([[-3.53973889, -2.89384326],\n",
       "        [ 2.65077367, -2.79019029],\n",
       "        [-2.46154315,  2.78737555],\n",
       "        [ 2.6265299 ,  3.10868015]])"
      ]
     },
     "execution_count": 211,
     "metadata": {},
     "output_type": "execute_result"
    }
   ],
   "source": [
    "a"
   ]
  },
  {
   "cell_type": "code",
   "execution_count": 212,
   "metadata": {},
   "outputs": [],
   "source": [
    "import matplotlib.pyplot as plt"
   ]
  },
  {
   "cell_type": "code",
   "execution_count": 219,
   "metadata": {},
   "outputs": [
    {
     "data": {
      "image/png": "[encoded data removed]",
      "text/plain": [
       "<Figure size 720x648 with 1 Axes>"
      ]
     },
     "metadata": {},
     "output_type": "display_data"
    }
   ],
   "source": [
    "plt.figure(figsize=(10,9))\n",
    "plt.scatter(list(dataMat[:,0]), list(dataMat[:,1]), c = \"blue\" , marker=\"*\")\n",
    "plt.scatter(list(a[:,0]), list(a[:,1]), c = \"red\",marker=\"o\")\n",
    "plt.rc('font', family='STXihei', size=15) \n",
    "plt.title(\"Kmeans\")\n",
    "plt.xlabel(\"x\")\n",
    "plt.ylabel(\"y\")\n",
    "plt.grid(color='#95a5a6',linestyle='--',linewidth=3,axis='both',alpha= 0.4) \n",
    "fig = plt.gcf()"
   ]
  },
  {
   "cell_type": "code",
   "execution_count": null,
   "metadata": {},
   "outputs": [],
   "source": [
    "#二分"
   ]
  },
  {
   "cell_type": "code",
   "execution_count": null,
   "metadata": {},
   "outputs": [],
   "source": []
  }
 ],
 "metadata": {
  "kernelspec": {
   "display_name": "Python 3",
   "language": "python",
   "name": "python3"
  },
  "language_info": {
   "codemirror_mode": {
    "name": "ipython",
    "version": 3
   },
   "file_extension": ".py",
   "mimetype": "text/x-python",
   "name": "python",
   "nbconvert_exporter": "python",
   "pygments_lexer": "ipython3",
   "version": "3.6.5"
  }
 },
 "nbformat": 4,
 "nbformat_minor": 2
}
