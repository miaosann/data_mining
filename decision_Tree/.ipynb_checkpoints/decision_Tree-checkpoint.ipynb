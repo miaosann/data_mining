{
 "cells": [
  {
   "cell_type": "code",
   "execution_count": 1,
   "metadata": {},
   "outputs": [],
   "source": [
    "import math"
   ]
  },
  {
   "cell_type": "code",
   "execution_count": 2,
   "metadata": {},
   "outputs": [],
   "source": [
    "#创建数据集\n",
    "def createDataSet():\n",
    "    #使用list存储数据\n",
    "    '''\n",
    "        年龄：0代表青年，1代表中年，2代表老年；\n",
    "        有工作：0代表否，1代表是；\n",
    "        有自己的房子：0代表否，1代表是；\n",
    "        信贷情况：0代表一般，1代表好，2代表非常好；\n",
    "        类别(是否给贷款)：no代表否，yes代表是。\n",
    "    '''\n",
    "    dataSet = [\n",
    "            [0, 0, 0, 0, 'no'],         #数据集\n",
    "            [0, 0, 0, 1, 'no'],\n",
    "            [0, 1, 0, 1, 'yes'],\n",
    "            [0, 1, 1, 0, 'yes'],\n",
    "            [0, 0, 0, 0, 'no'],\n",
    "            [1, 0, 0, 0, 'no'],\n",
    "            [1, 0, 0, 1, 'no'],\n",
    "            [1, 1, 1, 1, 'yes'],\n",
    "            [1, 0, 1, 2, 'yes'],\n",
    "            [1, 0, 1, 2, 'yes'],\n",
    "            [2, 0, 1, 2, 'yes'],\n",
    "            [2, 0, 1, 1, 'yes'],\n",
    "            [2, 1, 0, 1, 'yes'],\n",
    "            [2, 1, 0, 2, 'yes'],\n",
    "            [2, 0, 0, 0, 'no']\n",
    "    ]\n",
    "    labels = ['年龄', '有工作', '有自己的房子', '信贷情况']        #分类属性\n",
    "    return dataSet, labels                #返回数据集和分类属性"
   ]
  },
  {
   "cell_type": "code",
   "execution_count": 3,
   "metadata": {},
   "outputs": [
    {
     "data": {
      "text/plain": [
       "0.9709505944546686"
      ]
     },
     "execution_count": 3,
     "metadata": {},
     "output_type": "execute_result"
    }
   ],
   "source": [
    "#计算香浓熵\n",
    "def calcShannoEnt(dataSet):\n",
    "    length = len(dataSet)\n",
    "    lableMap = {}\n",
    "    for dataItem in dataSet:\n",
    "        #print(dataItem)\n",
    "        if dataItem[-1] in lableMap.keys(): # map加不加keys（）都OK\n",
    "            lableMap[dataItem[-1]] += 1\n",
    "        else:\n",
    "            lableMap[dataItem[-1]] = 1\n",
    "    shannoEnt = 0.00\n",
    "    for lableItem in lableMap.keys(): # map加不加keys（）都OK\n",
    "        #print(lableItem)\n",
    "        prob = lableMap[lableItem]/length\n",
    "        l = -math.log(prob,2)\n",
    "        shannoEnt += l*prob\n",
    "    return shannoEnt\n",
    "\n",
    "dataSet,label = createDataSet()\n",
    "shannoEnt = calcShannoEnt(dataSet)\n",
    "shannoEnt"
   ]
  },
  {
   "cell_type": "code",
   "execution_count": 4,
   "metadata": {},
   "outputs": [
    {
     "data": {
      "text/plain": [
       "[[0, 0, 0, 'no'],\n",
       " [0, 0, 1, 'no'],\n",
       " [1, 1, 1, 'yes'],\n",
       " [0, 1, 2, 'yes'],\n",
       " [0, 1, 2, 'yes']]"
      ]
     },
     "execution_count": 4,
     "metadata": {},
     "output_type": "execute_result"
    }
   ],
   "source": [
    "#划分数据集（把多维数据集某一维等于value的挑选出来）\n",
    "'''\n",
    "    axis：为要挑选的维度\n",
    "    value：为需要该维度下的值\n",
    "'''\n",
    "def splitDataSet(dataSet,axis,value):\n",
    "    returnList = []\n",
    "    for dataItem in dataSet:\n",
    "        if dataItem[axis] == value:\n",
    "            itemList = dataItem[:axis]\n",
    "            itemList.extend(dataItem[axis+1:]) #extend函数为加到list中原来类型的元素\n",
    "            returnList.append(itemList) #append函数为加到list中的为一个list\n",
    "    return returnList\n",
    "returnList = splitDataSet(dataSet,0,1)\n",
    "returnList"
   ]
  },
  {
   "cell_type": "code",
   "execution_count": 5,
   "metadata": {},
   "outputs": [
    {
     "data": {
      "text/plain": [
       "2"
      ]
     },
     "execution_count": 5,
     "metadata": {},
     "output_type": "execute_result"
    }
   ],
   "source": [
    "#计算各个属性的信息增益，选取最佳属性值\n",
    "#整体思路：分别获取各个属性列，计算每列包含几种情况，各种情况下的信息熵，然后与总信息熵做差求出每属性列的信息增益，保存在map中，然后选择最大的信息熵那个列，即为最佳的结点\n",
    "def chooseBestFeatureToSplit(dataSet):\n",
    "    numFeature = len(dataSet[0]) - 1 #得出除了lable以外属性的个数\n",
    "    baseShannoEnt = calcShannoEnt(dataSet)\n",
    "    bestFeature = -1\n",
    "    gainMap ={}\n",
    "    for i in range(numFeature): #分别遍历这几个纬度\n",
    "        featureList = []\n",
    "        newShannoEnt = 0.0\n",
    "        for item in dataSet:\n",
    "            featureList.append(item[i])\n",
    "        featureSet = set(featureList)#获得了某维下的全部属性值\n",
    "        for itemSet in featureSet:\n",
    "            subDataSet = splitDataSet(dataSet,i,itemSet)\n",
    "            prob = len(subDataSet)/len(dataSet)\n",
    "            newShannoEnt += prob * calcShannoEnt(subDataSet)\n",
    "        gain = baseShannoEnt - newShannoEnt\n",
    "        gainMap[i] = gain  #把所有维度下的信息增益存到map中\n",
    "    #print(gainMap)\n",
    "    temp = 0.0\n",
    "    for i in gainMap.keys():#遍历选择最大信息增益对应的维数\n",
    "        if gainMap[i] > temp:\n",
    "            temp = gainMap[i]\n",
    "            bestFeature = i\n",
    "    return bestFeature\n",
    "bestFeature = chooseBestFeatureToSplit(dataSet)\n",
    "bestFeature"
   ]
  },
  {
   "cell_type": "code",
   "execution_count": 6,
   "metadata": {},
   "outputs": [],
   "source": [
    "import operator"
   ]
  },
  {
   "cell_type": "code",
   "execution_count": 7,
   "metadata": {},
   "outputs": [],
   "source": [
    "#在递归生成决策树的时候，当所有的类标签完全相同的时候，如果最后仍然不能完全相同，则选择次数最多的标签作为返回结果\n",
    "def majorityCnt(classList):\n",
    "    classCounts = {}\n",
    "    for lable in classList:\n",
    "        if lable in classCounts:\n",
    "            classCounts[lable] += 1\n",
    "        else:\n",
    "            classCounts[lable] = 1\n",
    "    #当把所有的标签出现次数提取出来后，进行排序选择最大的,这里不适用上一个使用map的选择最大信息增益的方式，而使用迭代排序\n",
    "    sortedClassCount = sorted(classCount.items(), key = operator.itemgetter(1), reverse = True)#根据字典的值降序排序\n",
    "    return sortedClassCount[0][0]"
   ]
  },
  {
   "cell_type": "code",
   "execution_count": null,
   "metadata": {},
   "outputs": [],
   "source": [
    "#创建决策树\n",
    "def createTree(dataSet,lables):\n",
    "    classList = [example[-1] for example in dataSet]#提取出数据中属性列最后\n",
    "    #如果属性标签中属性完全相同\n",
    "    if classList.counts(classList[0]) == len(classList):#list.count函数文档中写：Returns count of how many times obj occurs in list\n",
    "        return classList[0]\n",
    "    #如果其他属性列全部划分走，仅剩最后标签列\n",
    "    if len(dataSet[0]) == 1:\n",
    "        return majorityCnt(classList)\n",
    "    bestFeature = chooseBestFeatureToSplit(dataSet)\n",
    "    bestFeatureLable = labels[bestFeature]\n",
    "    myTree = {bestFeatureLable:{}}\n",
    "    del(lables[bestFeature])\n",
    "    featureList = [example[bestFeature] for example in dataSet]#把该属性lable下的所有属性值都提取出来，准备去重得到一共几项\n",
    "    featureSet = set(featureList)\n",
    "    for feature in featureSet:\n",
    "        subLables = lables[:]\n",
    "        #由于myTree为map中存储map，所以mytree下的两个[][]，第一个为根节点，第二个为在根节点下的map中找子节点\n",
    "        myTree[bestFeatureLable][feature] = createTree()\n",
    "    "
   ]
  }
 ],
 "metadata": {
  "kernelspec": {
   "display_name": "Python 3",
   "language": "python",
   "name": "python3"
  },
  "language_info": {
   "codemirror_mode": {
    "name": "ipython",
    "version": 3
   },
   "file_extension": ".py",
   "mimetype": "text/x-python",
   "name": "python",
   "nbconvert_exporter": "python",
   "pygments_lexer": "ipython3",
   "version": "3.6.5"
  }
 },
 "nbformat": 4,
 "nbformat_minor": 2
}
