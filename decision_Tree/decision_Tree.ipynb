{
 "cells": [
  {
   "cell_type": "code",
   "execution_count": 14,
   "metadata": {},
   "outputs": [],
   "source": [
    "import math"
   ]
  },
  {
   "cell_type": "code",
   "execution_count": 15,
   "metadata": {},
   "outputs": [],
   "source": [
    "#创建数据集\n",
    "def createDataSet():\n",
    "    #使用list存储数据\n",
    "    '''\n",
    "        年龄：0代表青年，1代表中年，2代表老年；\n",
    "        有工作：0代表否，1代表是；\n",
    "        有自己的房子：0代表否，1代表是；\n",
    "        信贷情况：0代表一般，1代表好，2代表非常好；\n",
    "        类别(是否给贷款)：no代表否，yes代表是。\n",
    "    '''\n",
    "    dataSet = [\n",
    "            [0, 0, 0, 0, 'no'],         #数据集\n",
    "            [0, 0, 0, 1, 'no'],\n",
    "            [0, 1, 0, 1, 'yes'],\n",
    "            [0, 1, 1, 0, 'yes'],\n",
    "            [0, 0, 0, 0, 'no'],\n",
    "            [1, 0, 0, 0, 'no'],\n",
    "            [1, 0, 0, 1, 'no'],\n",
    "            [1, 1, 1, 1, 'yes'],\n",
    "            [1, 0, 1, 2, 'yes'],\n",
    "            [1, 0, 1, 2, 'yes'],\n",
    "            [2, 0, 1, 2, 'yes'],\n",
    "            [2, 0, 1, 1, 'yes'],\n",
    "            [2, 1, 0, 1, 'yes'],\n",
    "            [2, 1, 0, 2, 'yes'],\n",
    "            [2, 0, 0, 0, 'no']\n",
    "    ]\n",
    "    labels = ['年龄', '有工作', '有自己的房子', '信贷情况']        #分类属性\n",
    "    return dataSet, labels                #返回数据集和分类属性"
   ]
  },
  {
   "cell_type": "code",
   "execution_count": 16,
   "metadata": {},
   "outputs": [
    {
     "data": {
      "text/plain": [
       "0.9709505944546686"
      ]
     },
     "execution_count": 16,
     "metadata": {},
     "output_type": "execute_result"
    }
   ],
   "source": [
    "#计算香浓熵\n",
    "def calcShannoEnt(dataSet):\n",
    "    length = len(dataSet)\n",
    "    lableMap = {}\n",
    "    for dataItem in dataSet:\n",
    "        #print(dataItem)\n",
    "        if dataItem[-1] in lableMap.keys(): # map加不加keys（）都OK\n",
    "            lableMap[dataItem[-1]] += 1\n",
    "        else:\n",
    "            lableMap[dataItem[-1]] = 1\n",
    "    shannoEnt = 0.00\n",
    "    for lableItem in lableMap.keys(): # map加不加keys（）都OK\n",
    "        #print(lableItem)\n",
    "        prob = lableMap[lableItem]/length\n",
    "        l = -math.log(prob,2)\n",
    "        shannoEnt += l*prob\n",
    "    return shannoEnt\n",
    "\n",
    "dataSet,label = createDataSet()\n",
    "shannoEnt = calcShannoEnt(dataSet)\n",
    "shannoEnt"
   ]
  },
  {
   "cell_type": "code",
   "execution_count": 17,
   "metadata": {},
   "outputs": [
    {
     "data": {
      "text/plain": [
       "[[0, 0, 0, 'no'],\n",
       " [0, 0, 1, 'no'],\n",
       " [1, 1, 1, 'yes'],\n",
       " [0, 1, 2, 'yes'],\n",
       " [0, 1, 2, 'yes']]"
      ]
     },
     "execution_count": 17,
     "metadata": {},
     "output_type": "execute_result"
    }
   ],
   "source": [
    "#划分数据集（把多维数据集某一维等于value的挑选出来）\n",
    "'''\n",
    "    axis：为要挑选的维度\n",
    "    value：为需要该维度下的值\n",
    "'''\n",
    "def splitDataSet(dataSet,axis,value):\n",
    "    returnList = []\n",
    "    for dataItem in dataSet:\n",
    "        if dataItem[axis] == value:\n",
    "            itemList = dataItem[:axis]\n",
    "            itemList.extend(dataItem[axis+1:]) #extend函数为加到list中原来类型的元素\n",
    "            returnList.append(itemList) #append函数为加到list中的为一个list\n",
    "    return returnList\n",
    "returnList = splitDataSet(dataSet,0,1)\n",
    "returnList"
   ]
  },
  {
   "cell_type": "code",
   "execution_count": 39,
   "metadata": {},
   "outputs": [
    {
     "name": "stdout",
     "output_type": "stream",
     "text": [
      "{0: 0.08300749985576883, 1: 0.32365019815155627, 2: 0.4199730940219749, 3: 0.36298956253708536}\n",
      "[[0, 0, 0, 0, 'no'], [0, 0, 0, 1, 'no'], [0, 1, 0, 1, 'yes'], [0, 1, 1, 0, 'yes'], [0, 0, 0, 0, 'no'], [1, 0, 0, 0, 'no'], [1, 0, 0, 1, 'no'], [1, 1, 1, 1, 'yes'], [1, 0, 1, 2, 'yes'], [1, 0, 1, 2, 'yes'], [2, 0, 1, 2, 'yes'], [2, 0, 1, 1, 'yes'], [2, 1, 0, 1, 'yes'], [2, 1, 0, 2, 'yes'], [2, 0, 0, 0, 'no']]\n",
      "2\n",
      "{0: 0.2516291673878229, 1: 0.9182958340544896, 2: 0.47385138961004514}\n",
      "[[0, 0, 0, 'no'], [0, 0, 1, 'no'], [0, 1, 1, 'yes'], [0, 0, 0, 'no'], [1, 0, 0, 'no'], [1, 0, 1, 'no'], [2, 1, 1, 'yes'], [2, 1, 2, 'yes'], [2, 0, 0, 'no']]\n",
      "1\n",
      "{0: 0.0, 1: 0.0, 2: 0.0}\n",
      "[[0, 0, 1, 'yes'], [0, 1, 0, 'yes'], [1, 1, 1, 'yes'], [2, 0, 1, 'yes'], [2, 0, 2, 'yes']]\n",
      "0\n",
      "{0: 0.17095059445466854, 1: 0.9709505944546686, 2: 0.5709505944546686}\n",
      "[[0, 0, 0, 'no'], [0, 0, 1, 'no'], [1, 1, 1, 'yes'], [0, 1, 2, 'yes'], [0, 1, 2, 'yes']]\n",
      "1\n"
     ]
    }
   ],
   "source": [
    "#计算各个属性的信息增益，选取最佳属性值\n",
    "#整体思路：分别获取各个属性列，计算每列包含几种情况，各种情况下的信息熵，然后与总信息熵做差求出每属性列的信息增益，保存在map中，然后选择最大的信息熵那个列，即为最佳的结点\n",
    "def chooseBestFeatureToSplit(dataSet):\n",
    "    numFeature = len(dataSet[0]) - 1 #得出除了lable以外属性的个数\n",
    "    baseShannoEnt = calcShannoEnt(dataSet)\n",
    "    bestFeature = -1\n",
    "    gainMap ={}\n",
    "    for i in range(numFeature): #分别遍历这几个纬度\n",
    "        featureList = []\n",
    "        newShannoEnt = 0.0\n",
    "        for item in dataSet:\n",
    "            featureList.append(item[i])\n",
    "        featureSet = set(featureList)#获得了某维下的全部属性值\n",
    "        for itemSet in featureSet:\n",
    "            subDataSet = splitDataSet(dataSet,i,itemSet)\n",
    "            prob = len(subDataSet)/len(dataSet)\n",
    "            newShannoEnt += prob * calcShannoEnt(subDataSet)\n",
    "        gain = baseShannoEnt - newShannoEnt\n",
    "        gainMap[i] = gain  #把所有维度下的信息增益存到map中\n",
    "    print(gainMap)\n",
    "    temp = -0.1\n",
    "    for i in gainMap.keys():#遍历选择最大信息增益对应的维数\n",
    "        if gainMap[i] > temp:\n",
    "            temp = gainMap[i]\n",
    "            bestFeature = i\n",
    "    return bestFeature\n",
    "bestFeature = chooseBestFeatureToSplit(dataSet)\n",
    "print(dataSet)\n",
    "print(bestFeature)\n",
    "dataSet1 = splitDataSet(dataSet,2,0)\n",
    "secondFeature = chooseBestFeatureToSplit(dataSet1)\n",
    "print(dataSet1)\n",
    "print(secondFeature)\n",
    "dataSet2 = splitDataSet(dataSet,1,1)\n",
    "thirdFeature = chooseBestFeatureToSplit(dataSet2)\n",
    "print(dataSet2)\n",
    "print(thirdFeature)\n",
    "dataSet3 = splitDataSet(dataSet,0,1)\n",
    "forthFeature = chooseBestFeatureToSplit(dataSet3)\n",
    "print(dataSet3)\n",
    "print(forthFeature)"
   ]
  },
  {
   "cell_type": "code",
   "execution_count": 40,
   "metadata": {},
   "outputs": [],
   "source": [
    "#由以上数据可以看出，由于后面求得信息熵均为0，所以在构建决策树的时候仅仅用了几项属性\n",
    "import operator"
   ]
  },
  {
   "cell_type": "code",
   "execution_count": 41,
   "metadata": {},
   "outputs": [],
   "source": [
    "#在递归生成决策树的时候，当所有的类标签完全相同的时候，如果最后仍然不能完全相同，则选择次数最多的标签作为返回结果\n",
    "def majorityCnt(classList):\n",
    "    classCounts = {}\n",
    "    for lable in classList:\n",
    "        if lable in classCounts:\n",
    "            classCounts[lable] += 1\n",
    "        else:\n",
    "            classCounts[lable] = 1\n",
    "    #当把所有的标签出现次数提取出来后，进行排序选择最大的,这里不适用上一个使用map的选择最大信息增益的方式，而使用迭代排序\n",
    "    sortedClassCount = sorted(classCount.items(), key = operator.itemgetter(1), reverse = True)#根据字典的值降序排序\n",
    "    return sortedClassCount[0][0]"
   ]
  },
  {
   "cell_type": "code",
   "execution_count": 42,
   "metadata": {},
   "outputs": [],
   "source": [
    "#创建决策树\n",
    "def createTree(dataSet,lables):\n",
    "    classList = [example[-1] for example in dataSet]#提取出数据中属性列最后\n",
    "    #如果属性标签中属性完全相同\n",
    "    if classList.count(classList[0]) == len(classList):#list.count函数文档中写：Returns count of how many times obj occurs in list\n",
    "        print(classList[0])\n",
    "        return classList[0]\n",
    "    #如果其他属性列全部划分走，仅剩最后标签列\n",
    "    if len(dataSet[0]) == 1:\n",
    "        print(dataSet[0])\n",
    "        return majorityCnt(classList)\n",
    "    bestFeature = chooseBestFeatureToSplit(dataSet)\n",
    "    bestFeatureLable = lables[bestFeature]\n",
    "    print(bestFeatureLable)\n",
    "    myTree = {bestFeatureLable:{}}\n",
    "    del(lables[bestFeature])\n",
    "    featureList = [example[bestFeature] for example in dataSet]#把该属性lable下的所有属性值都提取出来，准备去重得到一共几项\n",
    "    featureSet = set(featureList)\n",
    "    for feature in featureSet:\n",
    "        subLables = lables[:] #复制一份lables，由于会存在删除，复制一份可避免在迭代返回后出现lable被误删\n",
    "        #由于myTree为map中存储map，所以mytree下的两个[][]，第一个为根节点，第二个为在根节点下的map中找子节点\n",
    "        myTree[bestFeatureLable][feature] = createTree(splitDataSet(dataSet,bestFeature,feature),subLables)\n",
    "    return myTree"
   ]
  },
  {
   "cell_type": "code",
   "execution_count": 43,
   "metadata": {},
   "outputs": [
    {
     "name": "stdout",
     "output_type": "stream",
     "text": [
      "{0: 0.08300749985576883, 1: 0.32365019815155627, 2: 0.4199730940219749, 3: 0.36298956253708536}\n",
      "有自己的房子\n",
      "{0: 0.2516291673878229, 1: 0.9182958340544896, 2: 0.47385138961004514}\n",
      "有工作\n",
      "no\n",
      "yes\n",
      "yes\n"
     ]
    },
    {
     "data": {
      "text/plain": [
       "{'有自己的房子': {0: {'有工作': {0: 'no', 1: 'yes'}}, 1: 'yes'}}"
      ]
     },
     "execution_count": 43,
     "metadata": {},
     "output_type": "execute_result"
    }
   ],
   "source": [
    "#执行进行测试\n",
    "dataSet,lables = createDataSet()\n",
    "createTree(dataSet,lables)"
   ]
  },
  {
   "cell_type": "code",
   "execution_count": 51,
   "metadata": {},
   "outputs": [
    {
     "name": "stdout",
     "output_type": "stream",
     "text": [
      "['色泽', '根蒂', '敲声', '纹理', '脐部', '触感', '密度', '含糖率', '好瓜  ']\n",
      "['青绿', '蜷缩', '浊响', '清晰', '凹陷', '硬滑', '3', '4', '是  ']\n",
      "['乌黑', '蜷缩', '沉闷', '清晰', '凹陷', '硬滑', '4', '3', '是  ']\n",
      "['乌黑', '蜷缩', '浊响', '清晰', '凹陷', '硬滑', '3', '2', '是  ']\n",
      "['青绿', '蜷缩', '沉闷', '清晰', '凹陷', '硬滑', '3', '3', '是  ']\n",
      "['浅白', '蜷缩', '浊响', '清晰', '凹陷', '硬滑', '3', '2', '是  ']\n",
      "['青绿', '稍蜷', '浊响', '清晰', '稍凹', '软粘', '2', '2', '是  ']\n",
      "['乌黑', '稍蜷', '浊响', '稍糊', '稍凹', '软粘', '2', '1', '是  ']\n",
      "['乌黑', '稍蜷', '浊响', '清晰', '稍凹', '硬滑', '2', '2', '是  ']\n",
      "['乌黑', '稍蜷', '沉闷', '稍糊', '稍凹', '硬滑', '3', '1', '否  ']\n",
      "['青绿', '硬挺', '清脆', '清晰', '平坦', '软粘', '1', '2', '否  ']\n",
      "['浅白', '硬挺', '清脆', '模糊', '平坦', '硬滑', '1', '1', '否  ']\n",
      "['浅白', '蜷缩', '浊响', '模糊', '平坦', '软粘', '2', '1', '否  ']\n",
      "['青绿', '稍蜷', '浊响', '稍糊', '凹陷', '硬滑', '3', '2', '否  ']\n",
      "['浅白', '稍蜷', '沉闷', '稍糊', '凹陷', '硬滑', '3', '2', '否  ']\n",
      "['乌黑', '稍蜷', '浊响', '清晰', '稍凹', '软粘', '2', '3', '否  ']\n",
      "['浅白', '蜷缩', '浊响', '模糊', '平坦', '硬滑', '3', '1', '否  ']\n",
      "['青绿', '蜷缩', '沉闷', '稍糊', '稍凹', '硬滑', '3', '1', '否 ']\n"
     ]
    }
   ],
   "source": [
    "import csv\n",
    "watermelonData = csv.reader(open('watermelon1.csv'))\n",
    "melonLables = []\n",
    "melonData = []\n",
    "i = 0\n",
    "for watermelon in watermelonData:\n",
    "    if i ==0 :\n",
    "        melonLables = watermelon\n",
    "    else:\n",
    "        melonData.append(watermelon)\n",
    "    i += 1\n",
    "    print(watermelon)"
   ]
  },
  {
   "cell_type": "code",
   "execution_count": 52,
   "metadata": {},
   "outputs": [
    {
     "name": "stdout",
     "output_type": "stream",
     "text": [
      "[['青绿', '蜷缩', '浊响', '清晰', '凹陷', '硬滑', '3', '4', '是  '], ['乌黑', '蜷缩', '沉闷', '清晰', '凹陷', '硬滑', '4', '3', '是  '], ['乌黑', '蜷缩', '浊响', '清晰', '凹陷', '硬滑', '3', '2', '是  '], ['青绿', '蜷缩', '沉闷', '清晰', '凹陷', '硬滑', '3', '3', '是  '], ['浅白', '蜷缩', '浊响', '清晰', '凹陷', '硬滑', '3', '2', '是  '], ['青绿', '稍蜷', '浊响', '清晰', '稍凹', '软粘', '2', '2', '是  '], ['乌黑', '稍蜷', '浊响', '稍糊', '稍凹', '软粘', '2', '1', '是  '], ['乌黑', '稍蜷', '浊响', '清晰', '稍凹', '硬滑', '2', '2', '是  '], ['乌黑', '稍蜷', '沉闷', '稍糊', '稍凹', '硬滑', '3', '1', '否  '], ['青绿', '硬挺', '清脆', '清晰', '平坦', '软粘', '1', '2', '否  '], ['浅白', '硬挺', '清脆', '模糊', '平坦', '硬滑', '1', '1', '否  '], ['浅白', '蜷缩', '浊响', '模糊', '平坦', '软粘', '2', '1', '否  '], ['青绿', '稍蜷', '浊响', '稍糊', '凹陷', '硬滑', '3', '2', '否  '], ['浅白', '稍蜷', '沉闷', '稍糊', '凹陷', '硬滑', '3', '2', '否  '], ['乌黑', '稍蜷', '浊响', '清晰', '稍凹', '软粘', '2', '3', '否  '], ['浅白', '蜷缩', '浊响', '模糊', '平坦', '硬滑', '3', '1', '否  '], ['青绿', '蜷缩', '沉闷', '稍糊', '稍凹', '硬滑', '3', '1', '否 ']]\n",
      "['色泽', '根蒂', '敲声', '纹理', '脐部', '触感', '密度', '含糖率', '好瓜  ']\n"
     ]
    }
   ],
   "source": [
    "print(melonData)\n",
    "print(melonLables)"
   ]
  },
  {
   "cell_type": "code",
   "execution_count": 53,
   "metadata": {},
   "outputs": [
    {
     "name": "stdout",
     "output_type": "stream",
     "text": [
      "{0: 0.21250384237226783, 1: 0.2470536366736955, 2: 0.24516011072189858, 3: 0.4561338100238146, 4: 0.3935374599485816, 5: 0.04305769406425308, 6: 0.24134060682362457, 7: 0.25444757897209436}\n",
      "纹理\n",
      "{0: 0.5709505944546687, 1: 0.7219280948873624, 2: 0.419973094021975, 3: 0.41997309402197514, 4: 0.7219280948873624, 5: 0.7219280948873624, 6: 0.41997309402197514}\n",
      "根蒂\n",
      "否 \n",
      "{0: 0.31127812445913283, 1: 0.31127812445913283, 2: 0.31127812445913283, 3: 0.8112781244591328, 4: 0.8112781244591328, 5: 0.31127812445913283}\n",
      "触感\n",
      "否  \n",
      "是  \n",
      "{0: 0.04306839587828004, 1: 0.45810589515712374, 2: 0.33085622540971754, 3: 0.45810589515712374, 4: 0.45810589515712374, 5: 0.45810589515712374, 6: 0.05703473133081127}\n",
      "根蒂\n",
      "是  \n",
      "否  \n",
      "{0: 0.2516291673878229, 1: 0.0, 2: 0.0, 3: 0.2516291673878229, 4: 0.0, 5: 0.9182958340544896}\n",
      "含糖率\n",
      "是  \n",
      "否  \n",
      "否  \n",
      "{'纹理': {'稍糊': {'根蒂': {'蜷缩': '否 ', '稍蜷': {'触感': {'硬滑': '否  ', '软粘': '是  '}}}}, '清晰': {'根蒂': {'蜷缩': '是  ', '硬挺': '否  ', '稍蜷': {'含糖率': {'2': '是  ', '3': '否  '}}}}, '模糊': '否  '}}\n"
     ]
    }
   ],
   "source": [
    "print(createTree(melonData,melonLables))"
   ]
  },
  {
   "cell_type": "code",
   "execution_count": null,
   "metadata": {},
   "outputs": [],
   "source": []
  }
 ],
 "metadata": {
  "kernelspec": {
   "display_name": "Python 3",
   "language": "python",
   "name": "python3"
  },
  "language_info": {
   "codemirror_mode": {
    "name": "ipython",
    "version": 3
   },
   "file_extension": ".py",
   "mimetype": "text/x-python",
   "name": "python",
   "nbconvert_exporter": "python",
   "pygments_lexer": "ipython3",
   "version": "3.6.5"
  }
 },
 "nbformat": 4,
 "nbformat_minor": 2
}
